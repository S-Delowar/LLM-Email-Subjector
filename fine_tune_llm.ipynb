{
  "nbformat": 4,
  "nbformat_minor": 0,
  "metadata": {
    "colab": {
      "provenance": [],
      "gpuType": "T4",
      "authorship_tag": "ABX9TyMRQQQU01f93yLsU9yVYmno",
      "include_colab_link": true
    },
    "kernelspec": {
      "name": "python3",
      "display_name": "Python 3"
    },
    "language_info": {
      "name": "python"
    },
    "accelerator": "GPU"
  },
  "cells": [
    {
      "cell_type": "markdown",
      "metadata": {
        "id": "view-in-github",
        "colab_type": "text"
      },
      "source": [
        "<a href=\"https://colab.research.google.com/github/S-Delowar/LLM-Email-Subjector/blob/main/fine_tune_llm.ipynb\" target=\"_parent\"><img src=\"https://colab.research.google.com/assets/colab-badge.svg\" alt=\"Open In Colab\"/></a>"
      ]
    },
    {
      "cell_type": "code",
      "source": [
        "!pip install datasets transformers evaluate huggingface_hub -q"
      ],
      "metadata": {
        "id": "mQ1dxf7n7nlI"
      },
      "execution_count": 2,
      "outputs": []
    },
    {
      "cell_type": "code",
      "source": [
        "import os\n",
        "import pandas as pd\n",
        "from datasets import Dataset, DatasetDict\n",
        "\n",
        "from transformers import (\n",
        "    AutoTokenizer,\n",
        "    AutoModelForSeq2SeqLM,\n",
        "    DataCollatorForSeq2Seq,\n",
        "    Seq2SeqTrainingArguments,\n",
        "    Seq2SeqTrainer,\n",
        ")\n",
        "\n",
        "import evaluate\n",
        "from huggingface_hub import notebook_login"
      ],
      "metadata": {
        "id": "RX47I6kB8ynn"
      },
      "execution_count": 3,
      "outputs": []
    },
    {
      "cell_type": "markdown",
      "source": [
        "## Load the processed Data"
      ],
      "metadata": {
        "id": "_CD4XyoR_Xml"
      }
    },
    {
      "cell_type": "code",
      "source": [
        "# Mount Google Drive\n",
        "from google.colab import drive\n",
        "drive.mount('/content/drive')"
      ],
      "metadata": {
        "colab": {
          "base_uri": "https://localhost:8080/"
        },
        "id": "j2nbnbtg_YHY",
        "outputId": "5069acce-1aaa-41db-8fc8-ed15c5b8902f"
      },
      "execution_count": 4,
      "outputs": [
        {
          "output_type": "stream",
          "name": "stdout",
          "text": [
            "Mounted at /content/drive\n"
          ]
        }
      ]
    },
    {
      "cell_type": "code",
      "source": [
        "# Load email_subect processed data\n",
        "train_path = \"/content/drive/MyDrive/email_subjectline/processed_data/email_subjectline_train.csv\"\n",
        "val_path = \"/content/drive/MyDrive/email_subjectline/processed_data/email_subjectline_val.csv\"\n",
        "test_path = \"/content/drive/MyDrive/email_subjectline/processed_data/email_subjectline_test.csv\""
      ],
      "metadata": {
        "id": "uWaNfNnv_bjd"
      },
      "execution_count": 7,
      "outputs": []
    },
    {
      "cell_type": "code",
      "source": [
        "train_df = pd.read_csv(train_path)\n",
        "val_df = pd.read_csv(val_path)\n",
        "test_df = pd.read_csv(test_path)"
      ],
      "metadata": {
        "id": "1-gVicA7EgiP"
      },
      "execution_count": 8,
      "outputs": []
    },
    {
      "cell_type": "markdown",
      "source": [
        "## Convert to HuggingFce datasets\n"
      ],
      "metadata": {
        "id": "juqZxfy8E_F6"
      }
    },
    {
      "cell_type": "code",
      "source": [
        "dataset = DatasetDict(\n",
        "    {\n",
        "        \"train\": Dataset.from_pandas(train_df),\n",
        "        \"validation\": Dataset.from_pandas(val_df),\n",
        "        \"test\": Dataset.from_pandas(test_df),\n",
        "    }\n",
        ")"
      ],
      "metadata": {
        "id": "1YSGQnCuEmVJ"
      },
      "execution_count": 9,
      "outputs": []
    },
    {
      "cell_type": "code",
      "source": [
        "dataset"
      ],
      "metadata": {
        "colab": {
          "base_uri": "https://localhost:8080/"
        },
        "id": "jDkCQkniFDL8",
        "outputId": "566c0602-d586-4ec5-ba16-2a2ecd3e73de"
      },
      "execution_count": 10,
      "outputs": [
        {
          "output_type": "execute_result",
          "data": {
            "text/plain": [
              "DatasetDict({\n",
              "    train: Dataset({\n",
              "        features: ['input', 'output'],\n",
              "        num_rows: 12794\n",
              "    })\n",
              "    validation: Dataset({\n",
              "        features: ['input', 'output'],\n",
              "        num_rows: 1734\n",
              "    })\n",
              "    test: Dataset({\n",
              "        features: ['input', 'output'],\n",
              "        num_rows: 1718\n",
              "    })\n",
              "})"
            ]
          },
          "metadata": {},
          "execution_count": 10
        }
      ]
    },
    {
      "cell_type": "code",
      "source": [
        "# Sample\n",
        "dataset[\"train\"][10]"
      ],
      "metadata": {
        "colab": {
          "base_uri": "https://localhost:8080/"
        },
        "id": "notSQeWcFFSx",
        "outputId": "9b04753f-2fd9-4b14-c8c7-a32d5b4de3b6"
      },
      "execution_count": 12,
      "outputs": [
        {
          "output_type": "execute_result",
          "data": {
            "text/plain": [
              "{'input': \"Write a professional subject for this mail:\\n\\nWill,   Here is a list of the top items we need to work on to improve the position  and p&l reporting for the west desk.\\nMy underlying goal is to create position managers and p&l reports that  represent all the risk held by the desk and estimate p&l with great accuracy.\\nLet's try and schedule a meeting for this Wednesday to go over the items  above.\\nPhillip\\n\",\n",
              " 'output': 'Priority List'}"
            ]
          },
          "metadata": {},
          "execution_count": 12
        }
      ]
    },
    {
      "cell_type": "markdown",
      "source": [
        "## Load LLM Model and Tokenizer"
      ],
      "metadata": {
        "id": "uFmThwMcFQyg"
      }
    },
    {
      "cell_type": "code",
      "source": [
        "# Load model & tokenizer\n",
        "from transformers import AutoTokenizer, AutoModelForSeq2SeqLM\n",
        "\n",
        "model_checkpoint = \"google/flan-t5-small\"\n",
        "tokenizer = AutoTokenizer.from_pretrained(model_checkpoint)\n",
        "model = AutoModelForSeq2SeqLM.from_pretrained(model_checkpoint)"
      ],
      "metadata": {
        "id": "zEL4VmObFKWS"
      },
      "execution_count": 14,
      "outputs": []
    },
    {
      "cell_type": "markdown",
      "source": [
        "## Tokenization"
      ],
      "metadata": {
        "id": "1azQM6egFeRy"
      }
    },
    {
      "cell_type": "code",
      "source": [
        "# Function for Tokenization\n",
        "def tokenize_function(example):\n",
        "\n",
        "  model_inputs = tokenizer(example[\"input\"], max_length=512, truncation=True)\n",
        "\n",
        "  with tokenizer.as_target_tokenizer():\n",
        "      labels = tokenizer(example[\"output\"], max_length=32, truncation=True)\n",
        "\n",
        "  model_inputs[\"labels\"] = labels[\"input_ids\"]\n",
        "  return model_inputs"
      ],
      "metadata": {
        "id": "PMZUXSNMFWGs"
      },
      "execution_count": 15,
      "outputs": []
    },
    {
      "cell_type": "code",
      "source": [
        "# Tokenize dataset\n",
        "tokenized_dataset = dataset.map(tokenize_function, batched=True, remove_columns=[\"input\", \"output\"])\n"
      ],
      "metadata": {
        "id": "-FlLJ4RgItZH"
      },
      "execution_count": null,
      "outputs": []
    },
    {
      "cell_type": "code",
      "source": [
        "tokenized_dataset"
      ],
      "metadata": {
        "colab": {
          "base_uri": "https://localhost:8080/"
        },
        "id": "vIC-1OkhIw82",
        "outputId": "3138f978-222b-433a-d1d1-ea16b5d48589"
      },
      "execution_count": 17,
      "outputs": [
        {
          "output_type": "execute_result",
          "data": {
            "text/plain": [
              "DatasetDict({\n",
              "    train: Dataset({\n",
              "        features: ['input_ids', 'attention_mask', 'labels'],\n",
              "        num_rows: 12794\n",
              "    })\n",
              "    validation: Dataset({\n",
              "        features: ['input_ids', 'attention_mask', 'labels'],\n",
              "        num_rows: 1734\n",
              "    })\n",
              "    test: Dataset({\n",
              "        features: ['input_ids', 'attention_mask', 'labels'],\n",
              "        num_rows: 1718\n",
              "    })\n",
              "})"
            ]
          },
          "metadata": {},
          "execution_count": 17
        }
      ]
    },
    {
      "cell_type": "code",
      "source": [
        "# Sample\n",
        "tokenized_dataset[\"train\"][\"labels\"][300]"
      ],
      "metadata": {
        "colab": {
          "base_uri": "https://localhost:8080/"
        },
        "id": "MPM3ubktI5As",
        "outputId": "a5c6b2d3-98e3-410b-e58f-51ca7b837638"
      },
      "execution_count": 20,
      "outputs": [
        {
          "output_type": "execute_result",
          "data": {
            "text/plain": [
              "[180, 2610, 8, 3195, 18, 22098, 3387, 19035, 24995, 1]"
            ]
          },
          "metadata": {},
          "execution_count": 20
        }
      ]
    },
    {
      "cell_type": "markdown",
      "source": [
        "## Model Trainer"
      ],
      "metadata": {
        "id": "dPR5uWYUJNvL"
      }
    },
    {
      "cell_type": "code",
      "source": [
        "# Define data collator\n",
        "data_collator = DataCollatorForSeq2Seq(tokenizer=tokenizer, model=model)"
      ],
      "metadata": {
        "id": "U2s8LpiMI7H_"
      },
      "execution_count": 21,
      "outputs": []
    },
    {
      "cell_type": "code",
      "source": [
        "!pip install rouge_score -q"
      ],
      "metadata": {
        "colab": {
          "base_uri": "https://localhost:8080/"
        },
        "id": "AbV-R8mIJWIO",
        "outputId": "fb9f0544-47b5-4905-b9dd-e7cee5d0721c"
      },
      "execution_count": 22,
      "outputs": [
        {
          "output_type": "stream",
          "name": "stdout",
          "text": [
            "  Preparing metadata (setup.py) ... \u001b[?25l\u001b[?25hdone\n",
            "  Building wheel for rouge_score (setup.py) ... \u001b[?25l\u001b[?25hdone\n"
          ]
        }
      ]
    },
    {
      "cell_type": "code",
      "source": [
        "import numpy as np\n",
        "from evaluate import load\n",
        "\n",
        "# Load ROUGE metric\n",
        "rouge = load(\"rouge\")\n",
        "\n",
        "# Define compute metrics function\n",
        "def compute_metrics(eval_pred):\n",
        "  preds, labels = eval_pred\n",
        "\n",
        "  preds = np.where(preds != -100, preds, tokenizer.pad_token_id)\n",
        "  decoded_preds = tokenizer.batch_decode(preds, skip_special_tokens=True)\n",
        "\n",
        "  labels = np.where(labels != -100, labels, tokenizer.pad_token_id)\n",
        "  decoded_labels = tokenizer.batch_decode(labels, skip_special_tokens=True)\n",
        "\n",
        "  # Compute ROUGE\n",
        "  return rouge.compute(predictions=decoded_preds, references=decoded_labels)"
      ],
      "metadata": {
        "id": "1l8iMMdIJY4l"
      },
      "execution_count": null,
      "outputs": []
    },
    {
      "cell_type": "markdown",
      "source": [
        "### Initialize Trainer"
      ],
      "metadata": {
        "id": "OagF0suZJm-F"
      }
    },
    {
      "cell_type": "code",
      "source": [
        "# Huggingface logging\n",
        "notebook_login()"
      ],
      "metadata": {
        "id": "dIHXA5fEJitl"
      },
      "execution_count": null,
      "outputs": []
    },
    {
      "cell_type": "code",
      "source": [
        "# Training arguments\n",
        "training_args = Seq2SeqTrainingArguments(\n",
        "    output_dir=\"./flan-t5-email-subjectline\",\n",
        "    eval_strategy=\"epoch\",\n",
        "    save_strategy=\"epoch\",\n",
        "    save_total_limit=2,\n",
        "    logging_dir=\"./logs\",\n",
        "    per_device_train_batch_size=8,\n",
        "    per_device_eval_batch_size=8,\n",
        "    learning_rate=3e-5,\n",
        "    num_train_epochs=6,\n",
        "    weight_decay=0.01,\n",
        "    fp16=False,\n",
        "    predict_with_generate=True,\n",
        "    push_to_hub=True,\n",
        "    hub_model_id=\"sdelowar2/flan-t5-email-subjectline\",\n",
        "    hub_strategy=\"checkpoint\",\n",
        "    report_to=\"none\"\n",
        ")"
      ],
      "metadata": {
        "id": "atDuVXlDJqw-"
      },
      "execution_count": 29,
      "outputs": []
    },
    {
      "cell_type": "code",
      "source": [
        "# Initialize Trainer\n",
        "trainer = Seq2SeqTrainer(\n",
        "    model=model,\n",
        "    args=training_args,\n",
        "    train_dataset=tokenized_dataset[\"train\"],\n",
        "    eval_dataset=tokenized_dataset[\"validation\"],\n",
        "    data_collator=data_collator,\n",
        "    tokenizer=tokenizer,\n",
        "    compute_metrics=compute_metrics,\n",
        ")"
      ],
      "metadata": {
        "colab": {
          "base_uri": "https://localhost:8080/"
        },
        "id": "XQhKSSE5J-8k",
        "outputId": "1f1b0b19-46e7-4804-88e9-da6b87d5c6a3"
      },
      "execution_count": 30,
      "outputs": [
        {
          "output_type": "stream",
          "name": "stderr",
          "text": [
            "<ipython-input-30-623445fdc0af>:2: FutureWarning: `tokenizer` is deprecated and will be removed in version 5.0.0 for `Seq2SeqTrainer.__init__`. Use `processing_class` instead.\n",
            "  trainer = Seq2SeqTrainer(\n"
          ]
        }
      ]
    },
    {
      "cell_type": "code",
      "source": [
        "# Train the model\n",
        "trainer.train()"
      ],
      "metadata": {
        "colab": {
          "base_uri": "https://localhost:8080/",
          "height": 276
        },
        "id": "zmDK_oSCKIJe",
        "outputId": "c6f3cd05-ceef-43ff-9323-5883aa32e051"
      },
      "execution_count": 28,
      "outputs": [
        {
          "output_type": "stream",
          "name": "stderr",
          "text": [
            "Passing a tuple of `past_key_values` is deprecated and will be removed in Transformers v4.48.0. You should pass an instance of `EncoderDecoderCache` instead, e.g. `past_key_values=EncoderDecoderCache.from_legacy_cache(past_key_values)`.\n"
          ]
        },
        {
          "output_type": "display_data",
          "data": {
            "text/plain": [
              "<IPython.core.display.HTML object>"
            ],
            "text/html": [
              "\n",
              "    <div>\n",
              "      \n",
              "      <progress value='4800' max='4800' style='width:300px; height:20px; vertical-align: middle;'></progress>\n",
              "      [4800/4800 22:25, Epoch 3/3]\n",
              "    </div>\n",
              "    <table border=\"1\" class=\"dataframe\">\n",
              "  <thead>\n",
              " <tr style=\"text-align: left;\">\n",
              "      <th>Epoch</th>\n",
              "      <th>Training Loss</th>\n",
              "      <th>Validation Loss</th>\n",
              "      <th>Rouge1</th>\n",
              "      <th>Rouge2</th>\n",
              "      <th>Rougel</th>\n",
              "      <th>Rougelsum</th>\n",
              "    </tr>\n",
              "  </thead>\n",
              "  <tbody>\n",
              "    <tr>\n",
              "      <td>1</td>\n",
              "      <td>2.992300</td>\n",
              "      <td>3.692347</td>\n",
              "      <td>0.297746</td>\n",
              "      <td>0.150693</td>\n",
              "      <td>0.292687</td>\n",
              "      <td>0.292360</td>\n",
              "    </tr>\n",
              "    <tr>\n",
              "      <td>2</td>\n",
              "      <td>2.903300</td>\n",
              "      <td>3.677068</td>\n",
              "      <td>0.305713</td>\n",
              "      <td>0.155860</td>\n",
              "      <td>0.300848</td>\n",
              "      <td>0.300543</td>\n",
              "    </tr>\n",
              "    <tr>\n",
              "      <td>3</td>\n",
              "      <td>2.851900</td>\n",
              "      <td>3.682816</td>\n",
              "      <td>0.309912</td>\n",
              "      <td>0.159563</td>\n",
              "      <td>0.304376</td>\n",
              "      <td>0.304318</td>\n",
              "    </tr>\n",
              "  </tbody>\n",
              "</table><p>"
            ]
          },
          "metadata": {}
        },
        {
          "output_type": "execute_result",
          "data": {
            "text/plain": [
              "TrainOutput(global_step=4800, training_loss=2.931242955525716, metrics={'train_runtime': 1347.0868, 'train_samples_per_second': 28.493, 'train_steps_per_second': 3.563, 'total_flos': 5161217913176064.0, 'train_loss': 2.931242955525716, 'epoch': 3.0})"
            ]
          },
          "metadata": {},
          "execution_count": 28
        }
      ]
    },
    {
      "cell_type": "code",
      "source": [
        "# Run the training for more 3 epochs\n",
        "trainer.train(resume_from_checkpoint=True)"
      ],
      "metadata": {
        "colab": {
          "base_uri": "https://localhost:8080/",
          "height": 276
        },
        "id": "L2a0yXw0SefF",
        "outputId": "05bd1af9-9134-49e9-80f4-c669d5530128"
      },
      "execution_count": 31,
      "outputs": [
        {
          "output_type": "stream",
          "name": "stderr",
          "text": [
            "There were missing keys in the checkpoint model loaded: ['encoder.embed_tokens.weight', 'decoder.embed_tokens.weight'].\n"
          ]
        },
        {
          "output_type": "display_data",
          "data": {
            "text/plain": [
              "<IPython.core.display.HTML object>"
            ],
            "text/html": [
              "\n",
              "    <div>\n",
              "      \n",
              "      <progress value='9600' max='9600' style='width:300px; height:20px; vertical-align: middle;'></progress>\n",
              "      [9600/9600 23:21, Epoch 6/6]\n",
              "    </div>\n",
              "    <table border=\"1\" class=\"dataframe\">\n",
              "  <thead>\n",
              " <tr style=\"text-align: left;\">\n",
              "      <th>Epoch</th>\n",
              "      <th>Training Loss</th>\n",
              "      <th>Validation Loss</th>\n",
              "      <th>Rouge1</th>\n",
              "      <th>Rouge2</th>\n",
              "      <th>Rougel</th>\n",
              "      <th>Rougelsum</th>\n",
              "    </tr>\n",
              "  </thead>\n",
              "  <tbody>\n",
              "    <tr>\n",
              "      <td>4</td>\n",
              "      <td>2.833900</td>\n",
              "      <td>3.663966</td>\n",
              "      <td>0.314346</td>\n",
              "      <td>0.161551</td>\n",
              "      <td>0.309300</td>\n",
              "      <td>0.309254</td>\n",
              "    </tr>\n",
              "    <tr>\n",
              "      <td>5</td>\n",
              "      <td>2.806700</td>\n",
              "      <td>3.657794</td>\n",
              "      <td>0.315205</td>\n",
              "      <td>0.162916</td>\n",
              "      <td>0.310012</td>\n",
              "      <td>0.309960</td>\n",
              "    </tr>\n",
              "    <tr>\n",
              "      <td>6</td>\n",
              "      <td>2.731900</td>\n",
              "      <td>3.666781</td>\n",
              "      <td>0.316504</td>\n",
              "      <td>0.163504</td>\n",
              "      <td>0.311467</td>\n",
              "      <td>0.311507</td>\n",
              "    </tr>\n",
              "  </tbody>\n",
              "</table><p>"
            ]
          },
          "metadata": {}
        },
        {
          "output_type": "execute_result",
          "data": {
            "text/plain": [
              "TrainOutput(global_step=9600, training_loss=1.3981473795572916, metrics={'train_runtime': 1401.4293, 'train_samples_per_second': 54.776, 'train_steps_per_second': 6.85, 'total_flos': 1.033028026042368e+16, 'train_loss': 1.3981473795572916, 'epoch': 6.0})"
            ]
          },
          "metadata": {},
          "execution_count": 31
        }
      ]
    },
    {
      "cell_type": "code",
      "source": [],
      "metadata": {
        "id": "_3_B3UxPKMi-"
      },
      "execution_count": null,
      "outputs": []
    },
    {
      "cell_type": "markdown",
      "source": [
        "## Evaluation on Test Data"
      ],
      "metadata": {
        "id": "0gK-RKC6S1_5"
      }
    },
    {
      "cell_type": "code",
      "source": [
        "# Prediction on  test data\n",
        "output = trainer.predict(tokenized_dataset[\"test\"])\n",
        "\n",
        "preds = output.predictions\n",
        "labels = output.label_ids\n",
        "\n",
        "preds = np.where(preds != -100, preds, tokenizer.pad_token_id)\n",
        "decoded_preds = tokenizer.batch_decode(preds, skip_special_tokens=True)\n",
        "\n",
        "labels = np.where(labels != -100, labels, tokenizer.pad_token_id)\n",
        "decoded_labels = tokenizer.batch_decode(labels, skip_special_tokens=True)\n",
        "\n",
        "# Compute metrics on test data\n",
        "test_metrics = rouge.compute(predictions=decoded_preds, references=decoded_labels)"
      ],
      "metadata": {
        "colab": {
          "base_uri": "https://localhost:8080/",
          "height": 17
        },
        "id": "PnRJHZndS3bn",
        "outputId": "bd914ebf-f06c-44a4-f3cb-5e1b6ccffcb8"
      },
      "execution_count": 32,
      "outputs": [
        {
          "output_type": "display_data",
          "data": {
            "text/plain": [
              "<IPython.core.display.HTML object>"
            ],
            "text/html": []
          },
          "metadata": {}
        }
      ]
    },
    {
      "cell_type": "code",
      "source": [
        "print(test_metrics)"
      ],
      "metadata": {
        "colab": {
          "base_uri": "https://localhost:8080/"
        },
        "id": "blYyhjOwTNi4",
        "outputId": "7767658d-46a5-4b16-f4a9-24fe339f9f37"
      },
      "execution_count": 33,
      "outputs": [
        {
          "output_type": "stream",
          "name": "stdout",
          "text": [
            "{'rouge1': np.float64(0.2967526156853725), 'rouge2': np.float64(0.15909880969804685), 'rougeL': np.float64(0.29210522986748555), 'rougeLsum': np.float64(0.2922569133859759)}\n"
          ]
        }
      ]
    },
    {
      "cell_type": "markdown",
      "source": [
        "## Save test output"
      ],
      "metadata": {
        "id": "V196z57FTQIe"
      }
    },
    {
      "cell_type": "code",
      "source": [
        "# Create dataframe for test data with actual and predicted subject\n",
        "output_df = pd.DataFrame({\n",
        "    \"input\": test_df[\"input\"],\n",
        "    \"actual_subjectline\": test_df[\"output\"],\n",
        "    \"predicted_subjectline\": decoded_preds\n",
        "})"
      ],
      "metadata": {
        "id": "gq7JwJKyTSj8"
      },
      "execution_count": 34,
      "outputs": []
    },
    {
      "cell_type": "code",
      "source": [
        "output_df.tail(5)"
      ],
      "metadata": {
        "colab": {
          "base_uri": "https://localhost:8080/",
          "height": 379
        },
        "id": "pAl--V4aTq2-",
        "outputId": "464ececb-76d3-4699-e93a-5d2501f4b7ac"
      },
      "execution_count": 35,
      "outputs": [
        {
          "output_type": "execute_result",
          "data": {
            "text/plain": [
              "                                                  input  \\\n",
              "1713  Suggest a subject line for the email below:\\n\\...   \n",
              "1714  What would be a good subject for this message?...   \n",
              "1715  Generate a concise subject line for this email...   \n",
              "1716  What would be a good subject for this message?...   \n",
              "1717  What would be a good subject for this message?...   \n",
              "\n",
              "                                    actual_subjectline  \\\n",
              "1713                                       insurance\\n   \n",
              "1714  Reminder: Risk Management Simulation Questions\\n   \n",
              "1715                            Non-Exempt Scorecard\\n   \n",
              "1716                          Weekly Reports are Due\\n   \n",
              "1717                                      Power Pool\\n   \n",
              "\n",
              "                    predicted_subjectline  \n",
              "1713                            Insurance  \n",
              "1714                       Swaps Question  \n",
              "1715       Non-Exempt Employee Evaluation  \n",
              "1716  Weekly Update for Philippe and Greg  \n",
              "1717                           Power Pool  "
            ],
            "text/html": [
              "\n",
              "  <div id=\"df-536c7eb7-5c73-4d16-8685-221b0994dcab\" class=\"colab-df-container\">\n",
              "    <div>\n",
              "<style scoped>\n",
              "    .dataframe tbody tr th:only-of-type {\n",
              "        vertical-align: middle;\n",
              "    }\n",
              "\n",
              "    .dataframe tbody tr th {\n",
              "        vertical-align: top;\n",
              "    }\n",
              "\n",
              "    .dataframe thead th {\n",
              "        text-align: right;\n",
              "    }\n",
              "</style>\n",
              "<table border=\"1\" class=\"dataframe\">\n",
              "  <thead>\n",
              "    <tr style=\"text-align: right;\">\n",
              "      <th></th>\n",
              "      <th>input</th>\n",
              "      <th>actual_subjectline</th>\n",
              "      <th>predicted_subjectline</th>\n",
              "    </tr>\n",
              "  </thead>\n",
              "  <tbody>\n",
              "    <tr>\n",
              "      <th>1713</th>\n",
              "      <td>Suggest a subject line for the email below:\\n\\...</td>\n",
              "      <td>insurance\\n</td>\n",
              "      <td>Insurance</td>\n",
              "    </tr>\n",
              "    <tr>\n",
              "      <th>1714</th>\n",
              "      <td>What would be a good subject for this message?...</td>\n",
              "      <td>Reminder: Risk Management Simulation Questions\\n</td>\n",
              "      <td>Swaps Question</td>\n",
              "    </tr>\n",
              "    <tr>\n",
              "      <th>1715</th>\n",
              "      <td>Generate a concise subject line for this email...</td>\n",
              "      <td>Non-Exempt Scorecard\\n</td>\n",
              "      <td>Non-Exempt Employee Evaluation</td>\n",
              "    </tr>\n",
              "    <tr>\n",
              "      <th>1716</th>\n",
              "      <td>What would be a good subject for this message?...</td>\n",
              "      <td>Weekly Reports are Due\\n</td>\n",
              "      <td>Weekly Update for Philippe and Greg</td>\n",
              "    </tr>\n",
              "    <tr>\n",
              "      <th>1717</th>\n",
              "      <td>What would be a good subject for this message?...</td>\n",
              "      <td>Power Pool\\n</td>\n",
              "      <td>Power Pool</td>\n",
              "    </tr>\n",
              "  </tbody>\n",
              "</table>\n",
              "</div>\n",
              "    <div class=\"colab-df-buttons\">\n",
              "\n",
              "  <div class=\"colab-df-container\">\n",
              "    <button class=\"colab-df-convert\" onclick=\"convertToInteractive('df-536c7eb7-5c73-4d16-8685-221b0994dcab')\"\n",
              "            title=\"Convert this dataframe to an interactive table.\"\n",
              "            style=\"display:none;\">\n",
              "\n",
              "  <svg xmlns=\"http://www.w3.org/2000/svg\" height=\"24px\" viewBox=\"0 -960 960 960\">\n",
              "    <path d=\"M120-120v-720h720v720H120Zm60-500h600v-160H180v160Zm220 220h160v-160H400v160Zm0 220h160v-160H400v160ZM180-400h160v-160H180v160Zm440 0h160v-160H620v160ZM180-180h160v-160H180v160Zm440 0h160v-160H620v160Z\"/>\n",
              "  </svg>\n",
              "    </button>\n",
              "\n",
              "  <style>\n",
              "    .colab-df-container {\n",
              "      display:flex;\n",
              "      gap: 12px;\n",
              "    }\n",
              "\n",
              "    .colab-df-convert {\n",
              "      background-color: #E8F0FE;\n",
              "      border: none;\n",
              "      border-radius: 50%;\n",
              "      cursor: pointer;\n",
              "      display: none;\n",
              "      fill: #1967D2;\n",
              "      height: 32px;\n",
              "      padding: 0 0 0 0;\n",
              "      width: 32px;\n",
              "    }\n",
              "\n",
              "    .colab-df-convert:hover {\n",
              "      background-color: #E2EBFA;\n",
              "      box-shadow: 0px 1px 2px rgba(60, 64, 67, 0.3), 0px 1px 3px 1px rgba(60, 64, 67, 0.15);\n",
              "      fill: #174EA6;\n",
              "    }\n",
              "\n",
              "    .colab-df-buttons div {\n",
              "      margin-bottom: 4px;\n",
              "    }\n",
              "\n",
              "    [theme=dark] .colab-df-convert {\n",
              "      background-color: #3B4455;\n",
              "      fill: #D2E3FC;\n",
              "    }\n",
              "\n",
              "    [theme=dark] .colab-df-convert:hover {\n",
              "      background-color: #434B5C;\n",
              "      box-shadow: 0px 1px 3px 1px rgba(0, 0, 0, 0.15);\n",
              "      filter: drop-shadow(0px 1px 2px rgba(0, 0, 0, 0.3));\n",
              "      fill: #FFFFFF;\n",
              "    }\n",
              "  </style>\n",
              "\n",
              "    <script>\n",
              "      const buttonEl =\n",
              "        document.querySelector('#df-536c7eb7-5c73-4d16-8685-221b0994dcab button.colab-df-convert');\n",
              "      buttonEl.style.display =\n",
              "        google.colab.kernel.accessAllowed ? 'block' : 'none';\n",
              "\n",
              "      async function convertToInteractive(key) {\n",
              "        const element = document.querySelector('#df-536c7eb7-5c73-4d16-8685-221b0994dcab');\n",
              "        const dataTable =\n",
              "          await google.colab.kernel.invokeFunction('convertToInteractive',\n",
              "                                                    [key], {});\n",
              "        if (!dataTable) return;\n",
              "\n",
              "        const docLinkHtml = 'Like what you see? Visit the ' +\n",
              "          '<a target=\"_blank\" href=https://colab.research.google.com/notebooks/data_table.ipynb>data table notebook</a>'\n",
              "          + ' to learn more about interactive tables.';\n",
              "        element.innerHTML = '';\n",
              "        dataTable['output_type'] = 'display_data';\n",
              "        await google.colab.output.renderOutput(dataTable, element);\n",
              "        const docLink = document.createElement('div');\n",
              "        docLink.innerHTML = docLinkHtml;\n",
              "        element.appendChild(docLink);\n",
              "      }\n",
              "    </script>\n",
              "  </div>\n",
              "\n",
              "\n",
              "    <div id=\"df-59af970b-1069-4185-babe-2808d51b88c0\">\n",
              "      <button class=\"colab-df-quickchart\" onclick=\"quickchart('df-59af970b-1069-4185-babe-2808d51b88c0')\"\n",
              "                title=\"Suggest charts\"\n",
              "                style=\"display:none;\">\n",
              "\n",
              "<svg xmlns=\"http://www.w3.org/2000/svg\" height=\"24px\"viewBox=\"0 0 24 24\"\n",
              "     width=\"24px\">\n",
              "    <g>\n",
              "        <path d=\"M19 3H5c-1.1 0-2 .9-2 2v14c0 1.1.9 2 2 2h14c1.1 0 2-.9 2-2V5c0-1.1-.9-2-2-2zM9 17H7v-7h2v7zm4 0h-2V7h2v10zm4 0h-2v-4h2v4z\"/>\n",
              "    </g>\n",
              "</svg>\n",
              "      </button>\n",
              "\n",
              "<style>\n",
              "  .colab-df-quickchart {\n",
              "      --bg-color: #E8F0FE;\n",
              "      --fill-color: #1967D2;\n",
              "      --hover-bg-color: #E2EBFA;\n",
              "      --hover-fill-color: #174EA6;\n",
              "      --disabled-fill-color: #AAA;\n",
              "      --disabled-bg-color: #DDD;\n",
              "  }\n",
              "\n",
              "  [theme=dark] .colab-df-quickchart {\n",
              "      --bg-color: #3B4455;\n",
              "      --fill-color: #D2E3FC;\n",
              "      --hover-bg-color: #434B5C;\n",
              "      --hover-fill-color: #FFFFFF;\n",
              "      --disabled-bg-color: #3B4455;\n",
              "      --disabled-fill-color: #666;\n",
              "  }\n",
              "\n",
              "  .colab-df-quickchart {\n",
              "    background-color: var(--bg-color);\n",
              "    border: none;\n",
              "    border-radius: 50%;\n",
              "    cursor: pointer;\n",
              "    display: none;\n",
              "    fill: var(--fill-color);\n",
              "    height: 32px;\n",
              "    padding: 0;\n",
              "    width: 32px;\n",
              "  }\n",
              "\n",
              "  .colab-df-quickchart:hover {\n",
              "    background-color: var(--hover-bg-color);\n",
              "    box-shadow: 0 1px 2px rgba(60, 64, 67, 0.3), 0 1px 3px 1px rgba(60, 64, 67, 0.15);\n",
              "    fill: var(--button-hover-fill-color);\n",
              "  }\n",
              "\n",
              "  .colab-df-quickchart-complete:disabled,\n",
              "  .colab-df-quickchart-complete:disabled:hover {\n",
              "    background-color: var(--disabled-bg-color);\n",
              "    fill: var(--disabled-fill-color);\n",
              "    box-shadow: none;\n",
              "  }\n",
              "\n",
              "  .colab-df-spinner {\n",
              "    border: 2px solid var(--fill-color);\n",
              "    border-color: transparent;\n",
              "    border-bottom-color: var(--fill-color);\n",
              "    animation:\n",
              "      spin 1s steps(1) infinite;\n",
              "  }\n",
              "\n",
              "  @keyframes spin {\n",
              "    0% {\n",
              "      border-color: transparent;\n",
              "      border-bottom-color: var(--fill-color);\n",
              "      border-left-color: var(--fill-color);\n",
              "    }\n",
              "    20% {\n",
              "      border-color: transparent;\n",
              "      border-left-color: var(--fill-color);\n",
              "      border-top-color: var(--fill-color);\n",
              "    }\n",
              "    30% {\n",
              "      border-color: transparent;\n",
              "      border-left-color: var(--fill-color);\n",
              "      border-top-color: var(--fill-color);\n",
              "      border-right-color: var(--fill-color);\n",
              "    }\n",
              "    40% {\n",
              "      border-color: transparent;\n",
              "      border-right-color: var(--fill-color);\n",
              "      border-top-color: var(--fill-color);\n",
              "    }\n",
              "    60% {\n",
              "      border-color: transparent;\n",
              "      border-right-color: var(--fill-color);\n",
              "    }\n",
              "    80% {\n",
              "      border-color: transparent;\n",
              "      border-right-color: var(--fill-color);\n",
              "      border-bottom-color: var(--fill-color);\n",
              "    }\n",
              "    90% {\n",
              "      border-color: transparent;\n",
              "      border-bottom-color: var(--fill-color);\n",
              "    }\n",
              "  }\n",
              "</style>\n",
              "\n",
              "      <script>\n",
              "        async function quickchart(key) {\n",
              "          const quickchartButtonEl =\n",
              "            document.querySelector('#' + key + ' button');\n",
              "          quickchartButtonEl.disabled = true;  // To prevent multiple clicks.\n",
              "          quickchartButtonEl.classList.add('colab-df-spinner');\n",
              "          try {\n",
              "            const charts = await google.colab.kernel.invokeFunction(\n",
              "                'suggestCharts', [key], {});\n",
              "          } catch (error) {\n",
              "            console.error('Error during call to suggestCharts:', error);\n",
              "          }\n",
              "          quickchartButtonEl.classList.remove('colab-df-spinner');\n",
              "          quickchartButtonEl.classList.add('colab-df-quickchart-complete');\n",
              "        }\n",
              "        (() => {\n",
              "          let quickchartButtonEl =\n",
              "            document.querySelector('#df-59af970b-1069-4185-babe-2808d51b88c0 button');\n",
              "          quickchartButtonEl.style.display =\n",
              "            google.colab.kernel.accessAllowed ? 'block' : 'none';\n",
              "        })();\n",
              "      </script>\n",
              "    </div>\n",
              "\n",
              "    </div>\n",
              "  </div>\n"
            ],
            "application/vnd.google.colaboratory.intrinsic+json": {
              "type": "dataframe",
              "summary": "{\n  \"name\": \"output_df\",\n  \"rows\": 5,\n  \"fields\": [\n    {\n      \"column\": \"input\",\n      \"properties\": {\n        \"dtype\": \"string\",\n        \"num_unique_values\": 5,\n        \"samples\": [\n          \"What would be a good subject for this message?\\n\\nHi Andy,  Thank you for briefly meeting with me on November 15th to discuss the questions we were looking for on the Swaps topic  for Crack Spread, BTU and Spark Spread.\\nPer our conversation, you stated that you wanted to go away to work on these practice questions for Crack Spread, BTU and Spark Spread.\\nAs you know, we were hoping to receive some of your questions this week.\\nDo you have any idea when you will be able to send them to us or meet with us to help drive these questions out.\\nLet me know if you have any questions!\\nThanks,\\n\",\n          \"What would be a good subject for this message?\\n\\nJohn,  Further to our conversation last week, this is written notification that the Power Pool was required to modify PetroCanada's direct sales/forward contracts with Enron Canada Power due to the sale of the Sundance 3 unit effective December 29 HE 1 2001.\\nThe details of these changes are provided below.\\n*********************************** Original Contract Number: 138 Terminated: December 28 HE 24 Source:  Enron Sundance 3 (Enron's metered asset) Sink: PO1U  New Contract Number: 2048 Begin Date: December 29 HE 1 Expiry Date: December 31 HE 24 Source:  Enron ECP- (Enron's unmetered asset) Sink: PO1U *********************************** Original Contract Number: 1287 Terminated: December 28 HE 24 Source:  Enron Sundance 3 (Enron's metered asset) Sink: PO1U  New Contract Number: 2052 Begin Date: December 29 HE 1 Expiry Date: December 31 HE 24 Source:  Enron ECP- (Enron's unmetered asset) Sink: PO1U ***********************************  If you have any questions relating to this matter, please give me a call.\\n\",\n          \"Generate a concise subject line for this email:\\n\\nThe following was developed in an effort to assist with your evaluation of  Non-Exempt employees.\\nPlease let me know if you have any additional questions.\\nThanks,\\n\"\n        ],\n        \"semantic_type\": \"\",\n        \"description\": \"\"\n      }\n    },\n    {\n      \"column\": \"actual_subjectline\",\n      \"properties\": {\n        \"dtype\": \"string\",\n        \"num_unique_values\": 5,\n        \"samples\": [\n          \"Reminder: Risk Management Simulation Questions\\n\",\n          \"Power Pool\\n\",\n          \"Non-Exempt Scorecard\\n\"\n        ],\n        \"semantic_type\": \"\",\n        \"description\": \"\"\n      }\n    },\n    {\n      \"column\": \"predicted_subjectline\",\n      \"properties\": {\n        \"dtype\": \"string\",\n        \"num_unique_values\": 5,\n        \"samples\": [\n          \"Swaps Question\",\n          \"Power Pool\",\n          \"Non-Exempt Employee Evaluation\"\n        ],\n        \"semantic_type\": \"\",\n        \"description\": \"\"\n      }\n    }\n  ]\n}"
            }
          },
          "metadata": {},
          "execution_count": 35
        }
      ]
    },
    {
      "cell_type": "code",
      "source": [
        "print(f\"\"\"Sample Input:\\n=========\\n{output_df[\"input\"][30]}\"\"\")\n",
        "print(f\"\"\"Actual Subject-Line:\\n=========\\n{output_df[\"actual_subjectline\"][30]}\"\"\")\n",
        "print(f\"\"\"Predicted Subject-Line:\\n=========\\n{output_df[\"predicted_subjectline\"][30]}\"\"\")"
      ],
      "metadata": {
        "colab": {
          "base_uri": "https://localhost:8080/"
        },
        "id": "sABy59SmT-Ib",
        "outputId": "270c17fb-55f9-4d08-fb06-409bd4fe27d9"
      },
      "execution_count": 38,
      "outputs": [
        {
          "output_type": "stream",
          "name": "stdout",
          "text": [
            "Sample Input:\n",
            "=========\n",
            "Suggest a subject line for the email below:\n",
            "\n",
            "As required by the Houston Fire Department, a fire drill has been scheduled for the Enron Center Campus.\n",
            "Enron Center North, 1400 Smith St., approximately  3:15 PM on Thursday, December 20th, 2001  \tEnron Center South, 1500 Louisiana St., approximately 3:45 PM on Thursday, December 20th, 2001  Please advise all clients, contractors, and visitors that this will be a fire drill only.\n",
            "The fire alarm will sound at 3:15 PM in Enron Center North and 3:45 PM in Enron Center South.\n",
            "You will be asked to go to the stairwell and standby.\n",
            "Do not go into the stairwell.\n",
            "Further instructions will be given over the public address system.\n",
            "If you experience any difficulties in hearing either the fire alarm or any announcements over the public address system, please notify the Facilities Help Desk by e-mail at facilitieshelpdesk1@enron.com.\n",
            "Anyone that is mobility impaired or medically disabled may be excused from participating in this drill by sending an e-mail to Harry Grubbs.\n",
            "If you have any questions or need any additional information, please contact Harry Grubbs at 713-853-5417.\n",
            "\n",
            "Actual Subject-Line:\n",
            "=========\n",
            "Fire Drill Scheduled\n",
            "\n",
            "Predicted Subject-Line:\n",
            "=========\n",
            "Fire drill for Enron Center Campus\n"
          ]
        }
      ]
    },
    {
      "cell_type": "code",
      "source": [
        "# Define test output path\n",
        "test_output_path = \"/content/drive/MyDrive/email_subjectline/test_output\"\n",
        "os.makedirs(test_output_path, exist_ok=True)\n",
        "\n",
        "# Save test output to csv\n",
        "output_df.to_csv(os.path.join (test_output_path, \"test_output.csv\"), index=False)"
      ],
      "metadata": {
        "id": "i8YD_iWpUst0"
      },
      "execution_count": 39,
      "outputs": []
    },
    {
      "cell_type": "markdown",
      "source": [
        "## Push the Model to Hugging Face Hub"
      ],
      "metadata": {
        "id": "QPh2l56YZLUI"
      }
    },
    {
      "cell_type": "code",
      "source": [
        "trainer.push_to_hub(commit_message=\"Pushed model after 6 epochs\")"
      ],
      "metadata": {
        "colab": {
          "base_uri": "https://localhost:8080/",
          "height": 138
        },
        "id": "kSZq-NxUZKI2",
        "outputId": "61d77f3a-bcaf-4946-b8df-b5fcccec0794"
      },
      "execution_count": 40,
      "outputs": [
        {
          "output_type": "execute_result",
          "data": {
            "text/plain": [
              "CommitInfo(commit_url='https://huggingface.co/sdelowar2/flan-t5-email-subjectline/commit/56e329f9ae55c90e1aa96674ce1d7b0a3c31c6e4', commit_message='Pushed model after 6 epochs', commit_description='', oid='56e329f9ae55c90e1aa96674ce1d7b0a3c31c6e4', pr_url=None, repo_url=RepoUrl('https://huggingface.co/sdelowar2/flan-t5-email-subjectline', endpoint='https://huggingface.co', repo_type='model', repo_id='sdelowar2/flan-t5-email-subjectline'), pr_revision=None, pr_num=None)"
            ],
            "application/vnd.google.colaboratory.intrinsic+json": {
              "type": "string"
            }
          },
          "metadata": {},
          "execution_count": 40
        }
      ]
    },
    {
      "cell_type": "code",
      "source": [],
      "metadata": {
        "id": "N3fr9Yu4Zh2I"
      },
      "execution_count": null,
      "outputs": []
    }
  ]
}