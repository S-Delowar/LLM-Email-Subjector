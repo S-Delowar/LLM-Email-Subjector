{
  "nbformat": 4,
  "nbformat_minor": 0,
  "metadata": {
    "colab": {
      "provenance": [],
      "authorship_tag": "ABX9TyPZswIIVqV0bq7x69HJQrtx",
      "include_colab_link": true
    },
    "kernelspec": {
      "name": "python3",
      "display_name": "Python 3"
    },
    "language_info": {
      "name": "python"
    }
  },
  "cells": [
    {
      "cell_type": "markdown",
      "metadata": {
        "id": "view-in-github",
        "colab_type": "text"
      },
      "source": [
        "<a href=\"https://colab.research.google.com/github/S-Delowar/LLM-Email-Subjector/blob/main/process_email_subjectline_data.ipynb\" target=\"_parent\"><img src=\"https://colab.research.google.com/assets/colab-badge.svg\" alt=\"Open In Colab\"/></a>"
      ]
    },
    {
      "cell_type": "code",
      "execution_count": 4,
      "metadata": {
        "id": "gnvcFQUstUNe"
      },
      "outputs": [],
      "source": [
        "!pip install datasets --upgrade --quiet"
      ]
    },
    {
      "cell_type": "code",
      "source": [
        "import os\n",
        "import pandas as pd\n",
        "from datasets import load_dataset, Dataset"
      ],
      "metadata": {
        "id": "fyOkJJMRtaNz"
      },
      "execution_count": 5,
      "outputs": []
    },
    {
      "cell_type": "markdown",
      "source": [
        "## Load dataset from Huggingface Datasets\n",
        "Source: [Yale-LILY/aeslc](https://huggingface.co/datasets/Yale-LILY/aeslc)"
      ],
      "metadata": {
        "id": "ZyfnzCEeuKRx"
      }
    },
    {
      "cell_type": "code",
      "source": [
        "dataset = load_dataset(\"Yale-LILY/aeslc\")\n",
        "dataset"
      ],
      "metadata": {
        "colab": {
          "base_uri": "https://localhost:8080/"
        },
        "id": "-ZAJOa84ta-B",
        "outputId": "caf12db9-905c-4bf5-cb1d-5f5fdc8b8106"
      },
      "execution_count": 7,
      "outputs": [
        {
          "output_type": "execute_result",
          "data": {
            "text/plain": [
              "DatasetDict({\n",
              "    train: Dataset({\n",
              "        features: ['email_body', 'subject_line'],\n",
              "        num_rows: 14436\n",
              "    })\n",
              "    validation: Dataset({\n",
              "        features: ['email_body', 'subject_line'],\n",
              "        num_rows: 1960\n",
              "    })\n",
              "    test: Dataset({\n",
              "        features: ['email_body', 'subject_line'],\n",
              "        num_rows: 1906\n",
              "    })\n",
              "})"
            ]
          },
          "metadata": {},
          "execution_count": 7
        }
      ]
    },
    {
      "cell_type": "markdown",
      "source": [
        "## Process Data"
      ],
      "metadata": {
        "id": "ARxFKJv0uQy4"
      }
    },
    {
      "cell_type": "code",
      "source": [
        "train_df = pd.DataFrame(dataset[\"train\"])\n",
        "val_df = pd.DataFrame(dataset[\"validation\"])\n",
        "test_df = pd.DataFrame(dataset[\"test\"])"
      ],
      "metadata": {
        "id": "H4NUQmZFtfYD"
      },
      "execution_count": 8,
      "outputs": []
    },
    {
      "cell_type": "code",
      "source": [
        "train_df.head()"
      ],
      "metadata": {
        "colab": {
          "base_uri": "https://localhost:8080/",
          "height": 206
        },
        "id": "n4KGaW2itiiD",
        "outputId": "5b46ba2a-3341-4c0e-e8f5-e0f234bfac0a"
      },
      "execution_count": 9,
      "outputs": [
        {
          "output_type": "execute_result",
          "data": {
            "text/plain": [
              "                                          email_body             subject_line\n",
              "0  Greg/Phillip,  Attached is the Grande Communic...        Service Agreement\n",
              "1  Phillip & Keith  Attached is the first draw re...           Bishops Corner\n",
              "2  Your Internet Banking accounts are now setup a...         Internet Banking\n",
              "3  To our IBS Customers that are still hanging in...         Internet Banking\n",
              "4  Phillip Good Morning!\\nI hope you had a wonder...  SMEs for expert stories"
            ],
            "text/html": [
              "\n",
              "  <div id=\"df-3dc8c2d9-40c8-42b5-a8fe-bae57accfd16\" class=\"colab-df-container\">\n",
              "    <div>\n",
              "<style scoped>\n",
              "    .dataframe tbody tr th:only-of-type {\n",
              "        vertical-align: middle;\n",
              "    }\n",
              "\n",
              "    .dataframe tbody tr th {\n",
              "        vertical-align: top;\n",
              "    }\n",
              "\n",
              "    .dataframe thead th {\n",
              "        text-align: right;\n",
              "    }\n",
              "</style>\n",
              "<table border=\"1\" class=\"dataframe\">\n",
              "  <thead>\n",
              "    <tr style=\"text-align: right;\">\n",
              "      <th></th>\n",
              "      <th>email_body</th>\n",
              "      <th>subject_line</th>\n",
              "    </tr>\n",
              "  </thead>\n",
              "  <tbody>\n",
              "    <tr>\n",
              "      <th>0</th>\n",
              "      <td>Greg/Phillip,  Attached is the Grande Communic...</td>\n",
              "      <td>Service Agreement</td>\n",
              "    </tr>\n",
              "    <tr>\n",
              "      <th>1</th>\n",
              "      <td>Phillip &amp; Keith  Attached is the first draw re...</td>\n",
              "      <td>Bishops Corner</td>\n",
              "    </tr>\n",
              "    <tr>\n",
              "      <th>2</th>\n",
              "      <td>Your Internet Banking accounts are now setup a...</td>\n",
              "      <td>Internet Banking</td>\n",
              "    </tr>\n",
              "    <tr>\n",
              "      <th>3</th>\n",
              "      <td>To our IBS Customers that are still hanging in...</td>\n",
              "      <td>Internet Banking</td>\n",
              "    </tr>\n",
              "    <tr>\n",
              "      <th>4</th>\n",
              "      <td>Phillip Good Morning!\\nI hope you had a wonder...</td>\n",
              "      <td>SMEs for expert stories</td>\n",
              "    </tr>\n",
              "  </tbody>\n",
              "</table>\n",
              "</div>\n",
              "    <div class=\"colab-df-buttons\">\n",
              "\n",
              "  <div class=\"colab-df-container\">\n",
              "    <button class=\"colab-df-convert\" onclick=\"convertToInteractive('df-3dc8c2d9-40c8-42b5-a8fe-bae57accfd16')\"\n",
              "            title=\"Convert this dataframe to an interactive table.\"\n",
              "            style=\"display:none;\">\n",
              "\n",
              "  <svg xmlns=\"http://www.w3.org/2000/svg\" height=\"24px\" viewBox=\"0 -960 960 960\">\n",
              "    <path d=\"M120-120v-720h720v720H120Zm60-500h600v-160H180v160Zm220 220h160v-160H400v160Zm0 220h160v-160H400v160ZM180-400h160v-160H180v160Zm440 0h160v-160H620v160ZM180-180h160v-160H180v160Zm440 0h160v-160H620v160Z\"/>\n",
              "  </svg>\n",
              "    </button>\n",
              "\n",
              "  <style>\n",
              "    .colab-df-container {\n",
              "      display:flex;\n",
              "      gap: 12px;\n",
              "    }\n",
              "\n",
              "    .colab-df-convert {\n",
              "      background-color: #E8F0FE;\n",
              "      border: none;\n",
              "      border-radius: 50%;\n",
              "      cursor: pointer;\n",
              "      display: none;\n",
              "      fill: #1967D2;\n",
              "      height: 32px;\n",
              "      padding: 0 0 0 0;\n",
              "      width: 32px;\n",
              "    }\n",
              "\n",
              "    .colab-df-convert:hover {\n",
              "      background-color: #E2EBFA;\n",
              "      box-shadow: 0px 1px 2px rgba(60, 64, 67, 0.3), 0px 1px 3px 1px rgba(60, 64, 67, 0.15);\n",
              "      fill: #174EA6;\n",
              "    }\n",
              "\n",
              "    .colab-df-buttons div {\n",
              "      margin-bottom: 4px;\n",
              "    }\n",
              "\n",
              "    [theme=dark] .colab-df-convert {\n",
              "      background-color: #3B4455;\n",
              "      fill: #D2E3FC;\n",
              "    }\n",
              "\n",
              "    [theme=dark] .colab-df-convert:hover {\n",
              "      background-color: #434B5C;\n",
              "      box-shadow: 0px 1px 3px 1px rgba(0, 0, 0, 0.15);\n",
              "      filter: drop-shadow(0px 1px 2px rgba(0, 0, 0, 0.3));\n",
              "      fill: #FFFFFF;\n",
              "    }\n",
              "  </style>\n",
              "\n",
              "    <script>\n",
              "      const buttonEl =\n",
              "        document.querySelector('#df-3dc8c2d9-40c8-42b5-a8fe-bae57accfd16 button.colab-df-convert');\n",
              "      buttonEl.style.display =\n",
              "        google.colab.kernel.accessAllowed ? 'block' : 'none';\n",
              "\n",
              "      async function convertToInteractive(key) {\n",
              "        const element = document.querySelector('#df-3dc8c2d9-40c8-42b5-a8fe-bae57accfd16');\n",
              "        const dataTable =\n",
              "          await google.colab.kernel.invokeFunction('convertToInteractive',\n",
              "                                                    [key], {});\n",
              "        if (!dataTable) return;\n",
              "\n",
              "        const docLinkHtml = 'Like what you see? Visit the ' +\n",
              "          '<a target=\"_blank\" href=https://colab.research.google.com/notebooks/data_table.ipynb>data table notebook</a>'\n",
              "          + ' to learn more about interactive tables.';\n",
              "        element.innerHTML = '';\n",
              "        dataTable['output_type'] = 'display_data';\n",
              "        await google.colab.output.renderOutput(dataTable, element);\n",
              "        const docLink = document.createElement('div');\n",
              "        docLink.innerHTML = docLinkHtml;\n",
              "        element.appendChild(docLink);\n",
              "      }\n",
              "    </script>\n",
              "  </div>\n",
              "\n",
              "\n",
              "    <div id=\"df-2397b6e3-dea7-412c-bb47-7ae47265f207\">\n",
              "      <button class=\"colab-df-quickchart\" onclick=\"quickchart('df-2397b6e3-dea7-412c-bb47-7ae47265f207')\"\n",
              "                title=\"Suggest charts\"\n",
              "                style=\"display:none;\">\n",
              "\n",
              "<svg xmlns=\"http://www.w3.org/2000/svg\" height=\"24px\"viewBox=\"0 0 24 24\"\n",
              "     width=\"24px\">\n",
              "    <g>\n",
              "        <path d=\"M19 3H5c-1.1 0-2 .9-2 2v14c0 1.1.9 2 2 2h14c1.1 0 2-.9 2-2V5c0-1.1-.9-2-2-2zM9 17H7v-7h2v7zm4 0h-2V7h2v10zm4 0h-2v-4h2v4z\"/>\n",
              "    </g>\n",
              "</svg>\n",
              "      </button>\n",
              "\n",
              "<style>\n",
              "  .colab-df-quickchart {\n",
              "      --bg-color: #E8F0FE;\n",
              "      --fill-color: #1967D2;\n",
              "      --hover-bg-color: #E2EBFA;\n",
              "      --hover-fill-color: #174EA6;\n",
              "      --disabled-fill-color: #AAA;\n",
              "      --disabled-bg-color: #DDD;\n",
              "  }\n",
              "\n",
              "  [theme=dark] .colab-df-quickchart {\n",
              "      --bg-color: #3B4455;\n",
              "      --fill-color: #D2E3FC;\n",
              "      --hover-bg-color: #434B5C;\n",
              "      --hover-fill-color: #FFFFFF;\n",
              "      --disabled-bg-color: #3B4455;\n",
              "      --disabled-fill-color: #666;\n",
              "  }\n",
              "\n",
              "  .colab-df-quickchart {\n",
              "    background-color: var(--bg-color);\n",
              "    border: none;\n",
              "    border-radius: 50%;\n",
              "    cursor: pointer;\n",
              "    display: none;\n",
              "    fill: var(--fill-color);\n",
              "    height: 32px;\n",
              "    padding: 0;\n",
              "    width: 32px;\n",
              "  }\n",
              "\n",
              "  .colab-df-quickchart:hover {\n",
              "    background-color: var(--hover-bg-color);\n",
              "    box-shadow: 0 1px 2px rgba(60, 64, 67, 0.3), 0 1px 3px 1px rgba(60, 64, 67, 0.15);\n",
              "    fill: var(--button-hover-fill-color);\n",
              "  }\n",
              "\n",
              "  .colab-df-quickchart-complete:disabled,\n",
              "  .colab-df-quickchart-complete:disabled:hover {\n",
              "    background-color: var(--disabled-bg-color);\n",
              "    fill: var(--disabled-fill-color);\n",
              "    box-shadow: none;\n",
              "  }\n",
              "\n",
              "  .colab-df-spinner {\n",
              "    border: 2px solid var(--fill-color);\n",
              "    border-color: transparent;\n",
              "    border-bottom-color: var(--fill-color);\n",
              "    animation:\n",
              "      spin 1s steps(1) infinite;\n",
              "  }\n",
              "\n",
              "  @keyframes spin {\n",
              "    0% {\n",
              "      border-color: transparent;\n",
              "      border-bottom-color: var(--fill-color);\n",
              "      border-left-color: var(--fill-color);\n",
              "    }\n",
              "    20% {\n",
              "      border-color: transparent;\n",
              "      border-left-color: var(--fill-color);\n",
              "      border-top-color: var(--fill-color);\n",
              "    }\n",
              "    30% {\n",
              "      border-color: transparent;\n",
              "      border-left-color: var(--fill-color);\n",
              "      border-top-color: var(--fill-color);\n",
              "      border-right-color: var(--fill-color);\n",
              "    }\n",
              "    40% {\n",
              "      border-color: transparent;\n",
              "      border-right-color: var(--fill-color);\n",
              "      border-top-color: var(--fill-color);\n",
              "    }\n",
              "    60% {\n",
              "      border-color: transparent;\n",
              "      border-right-color: var(--fill-color);\n",
              "    }\n",
              "    80% {\n",
              "      border-color: transparent;\n",
              "      border-right-color: var(--fill-color);\n",
              "      border-bottom-color: var(--fill-color);\n",
              "    }\n",
              "    90% {\n",
              "      border-color: transparent;\n",
              "      border-bottom-color: var(--fill-color);\n",
              "    }\n",
              "  }\n",
              "</style>\n",
              "\n",
              "      <script>\n",
              "        async function quickchart(key) {\n",
              "          const quickchartButtonEl =\n",
              "            document.querySelector('#' + key + ' button');\n",
              "          quickchartButtonEl.disabled = true;  // To prevent multiple clicks.\n",
              "          quickchartButtonEl.classList.add('colab-df-spinner');\n",
              "          try {\n",
              "            const charts = await google.colab.kernel.invokeFunction(\n",
              "                'suggestCharts', [key], {});\n",
              "          } catch (error) {\n",
              "            console.error('Error during call to suggestCharts:', error);\n",
              "          }\n",
              "          quickchartButtonEl.classList.remove('colab-df-spinner');\n",
              "          quickchartButtonEl.classList.add('colab-df-quickchart-complete');\n",
              "        }\n",
              "        (() => {\n",
              "          let quickchartButtonEl =\n",
              "            document.querySelector('#df-2397b6e3-dea7-412c-bb47-7ae47265f207 button');\n",
              "          quickchartButtonEl.style.display =\n",
              "            google.colab.kernel.accessAllowed ? 'block' : 'none';\n",
              "        })();\n",
              "      </script>\n",
              "    </div>\n",
              "\n",
              "    </div>\n",
              "  </div>\n"
            ],
            "application/vnd.google.colaboratory.intrinsic+json": {
              "type": "dataframe",
              "variable_name": "train_df",
              "summary": "{\n  \"name\": \"train_df\",\n  \"rows\": 14436,\n  \"fields\": [\n    {\n      \"column\": \"email_body\",\n      \"properties\": {\n        \"dtype\": \"string\",\n        \"num_unique_values\": 13523,\n        \"samples\": [\n          \"Sara: Here are drafts of the Certificates and Sight Drafts for Niagara Mohawk, El Paso electric, LG&E Energy Marketing and Energy Production Corp. (just in case it wasn't renewed).\\nI have put together files for each of these that include copies of the LC, the underlying trading docs and any correspondence that has been sent.\\nExcept for Niagara Mohawk which requires copies of the invoices and that the certificate be on \\\"letterhead\\\" there don't appear to be any other special requirements.\\nLeslie Reeves will be faxing the invoices to us.\\nI will be in tomorrow until around 11.\\nThanks for your help on this.\\nAll of these docs are in a file called Enron Restructuring.\\n\",\n          \"Good afternoon,  When you get a chance, please let me know if you would like for me to order you a 2002 calendar.\\nIf so, which kind?\\nYou may want more than one type.\\nJust let me know and I will be more than happy to order what you want.\\nThanks!\\n\",\n          \"Hey Hunter, A quick update.\\nKevin Brady is up to speed on working with Colin and Chris on consolidating critical and noncritical notices for all the regions.\\nI have also passed on the idea of an operations page on the website to the other logistics managers and the central desk schedulers to get their ideas and insights on how to make this page beneficial to both the traders and schedulers.\\nA couple of ideas that have already been passed my way are:  \\t1) Incorporating the Gas Daily and Index historicals against production/storage by pipe so that we could project cash outs (Mark Schrab) \\t2) A transportation rate matrix on the web site (Cora Pendergrass) \\t3) Enron operations personnel contact page with phone numbers and pictures.\\nMuch like the weather guys.\\nI laughed at first but Victor LaMadrid   \\t\\twhom suggested this said that the East Desk Traders don't even know all of his schedulers.\\n4) An easy access to the pipelines meters and dunns numbers.\\n(Kevin Brady) \\t5) Morning sheets updated with contract, constraint, and imbalance information from Sitara and Unify (Victor LaMadrid)  I have asked Kevin to consolidate all the ideas and then we can get together and decide which ones you want to place into production.\\nLisa\\n\"\n        ],\n        \"semantic_type\": \"\",\n        \"description\": \"\"\n      }\n    },\n    {\n      \"column\": \"subject_line\",\n      \"properties\": {\n        \"dtype\": \"string\",\n        \"num_unique_values\": 12032,\n        \"samples\": [\n          \"OMLX Application\",\n          \"Draft OF CA\",\n          \"Wharton trip\"\n        ],\n        \"semantic_type\": \"\",\n        \"description\": \"\"\n      }\n    }\n  ]\n}"
            }
          },
          "metadata": {},
          "execution_count": 9
        }
      ]
    },
    {
      "cell_type": "markdown",
      "source": [
        "### Cleaning"
      ],
      "metadata": {
        "id": "FsAmD1oduYbi"
      }
    },
    {
      "cell_type": "code",
      "source": [
        "print(f\"Before cleaning:\\n===============\")\n",
        "print(f\"Shape of Train data: {train_df.shape}\")\n",
        "print(f\"Shape of Validation data: {val_df.shape}\")\n",
        "print(f\"Shape of Test data: {test_df.shape}\")"
      ],
      "metadata": {
        "colab": {
          "base_uri": "https://localhost:8080/"
        },
        "id": "cO2FqgbmtjtB",
        "outputId": "0c15a4da-4e99-4550-dac2-6cff1ca4d408"
      },
      "execution_count": 10,
      "outputs": [
        {
          "output_type": "stream",
          "name": "stdout",
          "text": [
            "Before cleaning:\n",
            "===============\n",
            "Shape of Train data: (14436, 2)\n",
            "Shape of Validation data: (1960, 2)\n",
            "Shape of Test data: (1906, 2)\n"
          ]
        }
      ]
    },
    {
      "cell_type": "code",
      "source": [
        "# Cleans the email dataset by:\n",
        "# - Removing rows with missing or empty 'email_body' or 'subject_line'\n",
        "# - Dropping duplicates\n",
        "# - Filtering subject lines by length (between 6 and 80 characters)\n",
        "# - Resetting the index after cleaning\n",
        "\n",
        "def clean_df(df):\n",
        "  df = df.dropna(subset=[\"email_body\", \"subject_line\"])\n",
        "  df = df[~df[\"email_body\"].str.strip().eq(\"\")]\n",
        "  df = df[~df[\"subject_line\"].str.strip().eq(\"\")]\n",
        "  df = df.drop_duplicates()\n",
        "  df = df[(df[\"subject_line\"].str.len() > 5) & (df[\"subject_line\"].str.len() <= 80)]\n",
        "  df = df.reset_index(drop=True)\n",
        "  return df"
      ],
      "metadata": {
        "id": "cymf0cqntoFJ"
      },
      "execution_count": 11,
      "outputs": []
    },
    {
      "cell_type": "code",
      "source": [
        "train_df = clean_df(train_df)\n",
        "val_df = clean_df(val_df)\n",
        "test_df = clean_df(test_df)"
      ],
      "metadata": {
        "id": "pkeIsYnato6A"
      },
      "execution_count": 12,
      "outputs": []
    },
    {
      "cell_type": "code",
      "source": [
        "print(f\"After Cleaning:\\n===============\")\n",
        "print(f\"Shape of Train data: {train_df.shape}\")\n",
        "print(f\"Shape of Validation data: {val_df.shape}\")\n",
        "print(f\"Shape of Test data: {test_df.shape}\")"
      ],
      "metadata": {
        "colab": {
          "base_uri": "https://localhost:8080/"
        },
        "id": "JIJdx8IwtsyZ",
        "outputId": "69391b12-13d3-4935-d229-e8dad498b0ef"
      },
      "execution_count": 13,
      "outputs": [
        {
          "output_type": "stream",
          "name": "stdout",
          "text": [
            "After Cleaning:\n",
            "===============\n",
            "Shape of Train data: (12794, 2)\n",
            "Shape of Validation data: (1734, 2)\n",
            "Shape of Test data: (1718, 2)\n"
          ]
        }
      ]
    },
    {
      "cell_type": "markdown",
      "source": [
        "### Add Instruction"
      ],
      "metadata": {
        "id": "IqS7KA34uhF5"
      }
    },
    {
      "cell_type": "code",
      "source": [
        "import random\n",
        "\n",
        "# Define possible prompt instructions\n",
        "\n",
        "def generate_prompt(row):\n",
        "  instructions = [\n",
        "    \"Generate a concise subject line for this email:\",\n",
        "    \"What would be a good subject for this message?\",\n",
        "    \"Write a professional subject for this mail:\",\n",
        "    \"Suggest a subject line for the email below:\",\n",
        "  ]\n",
        "\n",
        "  instruction = random.choice(instructions)\n",
        "  return f\"{instruction}\\n\\n{row['email_body']}\"\n",
        "\n",
        "\n",
        "def format_with_instruction(df):\n",
        "  processed_df = pd.DataFrame({\n",
        "      \"input\": df.apply(generate_prompt, axis=1),\n",
        "      \"output\": df[\"subject_line\"]\n",
        "  })\n",
        "\n",
        "  return processed_df"
      ],
      "metadata": {
        "id": "VOLVDuWQttr5"
      },
      "execution_count": 14,
      "outputs": []
    },
    {
      "cell_type": "code",
      "source": [
        "final_train_df = format_with_instruction(train_df)\n",
        "final_val_df = format_with_instruction(val_df)\n",
        "final_test_df = format_with_instruction(test_df)"
      ],
      "metadata": {
        "id": "E88d9Ntrtw1S"
      },
      "execution_count": 15,
      "outputs": []
    },
    {
      "cell_type": "code",
      "source": [
        "print(f\"\"\"Sample Input:\\n=========\\n{final_train_df[\"input\"][3000]}\"\"\")\n",
        "print(f\"\"\"Sample Output:\\n=========\\n{final_train_df[\"output\"][3000]}\"\"\")"
      ],
      "metadata": {
        "colab": {
          "base_uri": "https://localhost:8080/"
        },
        "id": "HcMEHES4t01Y",
        "outputId": "2b353079-d228-4139-d997-3c7b1e4a9581"
      },
      "execution_count": 16,
      "outputs": [
        {
          "output_type": "stream",
          "name": "stdout",
          "text": [
            "Sample Input:\n",
            "=========\n",
            "Suggest a subject line for the email below:\n",
            "\n",
            "Houston Attendees:  Please convene in Conference Room 791 for the meeting to discuss ETS Risk Management Activities.\n",
            "This videoconference is scheduled for Monday, October 1, 1:00 - 3:00 p.m.\n",
            "If you have not yet responded to the meeting invitation (sent on September 19), please do so at your earliest convenience.\n",
            "Please let me know if you have any questions or require additional information.\n",
            "Thanks, everyone.\n",
            "\n",
            "Sample Output:\n",
            "=========\n",
            "Meeting Location in Houston\n"
          ]
        }
      ]
    },
    {
      "cell_type": "markdown",
      "source": [
        "## Save the final data"
      ],
      "metadata": {
        "id": "3J8ol0gAukpa"
      }
    },
    {
      "cell_type": "code",
      "source": [
        "# Mount Google Drive\n",
        "from google.colab import drive\n",
        "drive.mount('/content/drive')"
      ],
      "metadata": {
        "colab": {
          "base_uri": "https://localhost:8080/"
        },
        "id": "8IFVWFBPt5nR",
        "outputId": "bc8d8459-7d16-4a5e-9eb0-c4eb6d0ff4e4"
      },
      "execution_count": 17,
      "outputs": [
        {
          "output_type": "stream",
          "name": "stdout",
          "text": [
            "Mounted at /content/drive\n"
          ]
        }
      ]
    },
    {
      "cell_type": "code",
      "source": [
        "# Define directories\n",
        "save_path = \"/content/drive/MyDrive/email_subjectline/processed_data\"\n",
        "\n",
        "# Create the directory if it doesn't exist\n",
        "os.makedirs(save_path, exist_ok=True)"
      ],
      "metadata": {
        "id": "lYPbY1DEt7hR"
      },
      "execution_count": 18,
      "outputs": []
    },
    {
      "cell_type": "code",
      "source": [
        "# Save the dataframes to CSV files in Google Drive\n",
        "\n",
        "final_train_df.to_csv(os.path.join(save_path, 'email_subjectline_train.csv'), index=False)\n",
        "final_val_df.to_csv(os.path.join(save_path, 'email_subjectline_val.csv'), index=False)\n",
        "final_test_df.to_csv(os.path.join(save_path, 'emai_subjectline_test.csv'), index=False)\n"
      ],
      "metadata": {
        "id": "cYfIIwysuBjo"
      },
      "execution_count": 19,
      "outputs": []
    },
    {
      "cell_type": "code",
      "source": [],
      "metadata": {
        "id": "Q0C4QLdevelH"
      },
      "execution_count": null,
      "outputs": []
    }
  ]
}